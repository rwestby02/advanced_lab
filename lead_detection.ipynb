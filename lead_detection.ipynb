{
 "cells": [
  {
   "cell_type": "code",
   "execution_count": null,
   "id": "175c8da7-8c43-4b20-b07c-3dc9c30ee744",
   "metadata": {},
   "outputs": [],
   "source": [
    "import opencv\n",
    "import matplotlib\n",
    "import numpy as np\n",
    "\n",
    "def hsv_2_rgb():\n",
    "    \n",
    "    \n",
    "    \n",
    "hsv_2_rgb():"
   ]
  }
 ],
 "metadata": {
  "kernelspec": {
   "display_name": "Python 3 (ipykernel)",
   "language": "python",
   "name": "python3"
  },
  "language_info": {
   "codemirror_mode": {
    "name": "ipython",
    "version": 3
   },
   "file_extension": ".py",
   "mimetype": "text/x-python",
   "name": "python",
   "nbconvert_exporter": "python",
   "pygments_lexer": "ipython3",
   "version": "3.8.12"
  }
 },
 "nbformat": 4,
 "nbformat_minor": 5
}
